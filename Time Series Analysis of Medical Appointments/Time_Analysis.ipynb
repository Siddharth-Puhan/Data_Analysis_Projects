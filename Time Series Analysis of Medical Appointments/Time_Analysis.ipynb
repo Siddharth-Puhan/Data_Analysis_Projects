{
 "cells": [
  {
   "cell_type": "code",
   "execution_count": 4,
   "metadata": {},
   "outputs": [
    {
     "name": "stdout",
     "output_type": "stream",
     "text": [
      "Collecting pandas\n",
      "  Downloading pandas-2.0.3-cp311-cp311-win_amd64.whl (10.6 MB)\n",
      "                                              0.0/10.6 MB ? eta -:--:--\n",
      "                                              0.1/10.6 MB 2.6 MB/s eta 0:00:04\n",
      "     -                                        0.4/10.6 MB 3.8 MB/s eta 0:00:03\n",
      "     -                                        0.5/10.6 MB 4.6 MB/s eta 0:00:03\n",
      "     ---                                      0.9/10.6 MB 4.5 MB/s eta 0:00:03\n",
      "     ----                                     1.2/10.6 MB 5.2 MB/s eta 0:00:02\n",
      "     -----                                    1.4/10.6 MB 5.2 MB/s eta 0:00:02\n",
      "     ------                                   1.7/10.6 MB 4.8 MB/s eta 0:00:02\n",
      "     -------                                  2.0/10.6 MB 5.2 MB/s eta 0:00:02\n",
      "     --------                                 2.3/10.6 MB 5.5 MB/s eta 0:00:02\n",
      "     ----------                               2.7/10.6 MB 5.9 MB/s eta 0:00:02\n",
      "     -----------                              3.2/10.6 MB 6.3 MB/s eta 0:00:02\n",
      "     -------------                            3.5/10.6 MB 6.3 MB/s eta 0:00:02\n",
      "     --------------                           3.8/10.6 MB 6.6 MB/s eta 0:00:02\n",
      "     ---------------                          4.1/10.6 MB 6.4 MB/s eta 0:00:02\n",
      "     ---------------                          4.2/10.6 MB 6.2 MB/s eta 0:00:02\n",
      "     ----------------                         4.3/10.6 MB 6.2 MB/s eta 0:00:02\n",
      "     -----------------                        4.6/10.6 MB 6.1 MB/s eta 0:00:01\n",
      "     -------------------                      5.0/10.6 MB 6.2 MB/s eta 0:00:01\n",
      "     --------------------                     5.4/10.6 MB 6.4 MB/s eta 0:00:01\n",
      "     ---------------------                    5.7/10.6 MB 6.5 MB/s eta 0:00:01\n",
      "     ----------------------                   5.9/10.6 MB 6.3 MB/s eta 0:00:01\n",
      "     ------------------------                 6.4/10.6 MB 6.5 MB/s eta 0:00:01\n",
      "     -------------------------                6.8/10.6 MB 6.6 MB/s eta 0:00:01\n",
      "     ---------------------------              7.4/10.6 MB 6.8 MB/s eta 0:00:01\n",
      "     ----------------------------             7.7/10.6 MB 6.7 MB/s eta 0:00:01\n",
      "     -----------------------------            7.8/10.6 MB 6.7 MB/s eta 0:00:01\n",
      "     -----------------------------            7.8/10.6 MB 6.7 MB/s eta 0:00:01\n",
      "     --------------------------------         8.5/10.6 MB 6.5 MB/s eta 0:00:01\n",
      "     ----------------------------------       9.1/10.6 MB 6.7 MB/s eta 0:00:01\n",
      "     -----------------------------------      9.5/10.6 MB 6.9 MB/s eta 0:00:01\n",
      "     ------------------------------------     9.8/10.6 MB 7.0 MB/s eta 0:00:01\n",
      "     --------------------------------------   10.1/10.6 MB 6.9 MB/s eta 0:00:01\n",
      "     ---------------------------------------  10.6/10.6 MB 7.2 MB/s eta 0:00:01\n",
      "     ---------------------------------------  10.6/10.6 MB 7.2 MB/s eta 0:00:01\n",
      "     ---------------------------------------- 10.6/10.6 MB 6.6 MB/s eta 0:00:00\n",
      "Requirement already satisfied: python-dateutil>=2.8.2 in c:\\users\\hp\\appdata\\local\\packages\\pythonsoftwarefoundation.python.3.11_qbz5n2kfra8p0\\localcache\\local-packages\\python311\\site-packages (from pandas) (2.8.2)\n",
      "Collecting pytz>=2020.1 (from pandas)\n",
      "  Downloading pytz-2023.3-py2.py3-none-any.whl (502 kB)\n",
      "                                              0.0/502.3 kB ? eta -:--:--\n",
      "     ------------------------              337.9/502.3 kB 10.6 MB/s eta 0:00:01\n",
      "     -------------------------------------  491.5/502.3 kB 6.2 MB/s eta 0:00:01\n",
      "     -------------------------------------- 502.3/502.3 kB 5.2 MB/s eta 0:00:00\n",
      "Collecting tzdata>=2022.1 (from pandas)\n",
      "  Downloading tzdata-2023.3-py2.py3-none-any.whl (341 kB)\n",
      "                                              0.0/341.8 kB ? eta -:--:--\n",
      "     ------------------------------------  337.9/341.8 kB 10.6 MB/s eta 0:00:01\n",
      "     -------------------------------------- 341.8/341.8 kB 7.2 MB/s eta 0:00:00\n",
      "Collecting numpy>=1.21.0 (from pandas)\n",
      "  Downloading numpy-1.25.2-cp311-cp311-win_amd64.whl (15.5 MB)\n",
      "                                              0.0/15.5 MB ? eta -:--:--\n",
      "     -                                        0.6/15.5 MB 19.5 MB/s eta 0:00:01\n",
      "     --                                       0.8/15.5 MB 13.4 MB/s eta 0:00:02\n",
      "     --                                       0.9/15.5 MB 9.2 MB/s eta 0:00:02\n",
      "     ---                                      1.4/15.5 MB 7.3 MB/s eta 0:00:02\n",
      "     ----                                     1.6/15.5 MB 6.7 MB/s eta 0:00:03\n",
      "     -----                                    2.2/15.5 MB 7.7 MB/s eta 0:00:02\n",
      "     ------                                   2.6/15.5 MB 7.9 MB/s eta 0:00:02\n",
      "     -------                                  3.1/15.5 MB 8.1 MB/s eta 0:00:02\n",
      "     ---------                                3.6/15.5 MB 8.5 MB/s eta 0:00:02\n",
      "     ----------                               4.1/15.5 MB 8.4 MB/s eta 0:00:02\n",
      "     -----------                              4.6/15.5 MB 8.6 MB/s eta 0:00:02\n",
      "     ------------                             5.0/15.5 MB 8.6 MB/s eta 0:00:02\n",
      "     --------------                           5.6/15.5 MB 8.7 MB/s eta 0:00:02\n",
      "     ---------------                          6.0/15.5 MB 8.7 MB/s eta 0:00:02\n",
      "     ----------------                         6.4/15.5 MB 8.9 MB/s eta 0:00:02\n",
      "     ----------------                         6.6/15.5 MB 8.4 MB/s eta 0:00:02\n",
      "     ------------------                       7.0/15.5 MB 8.4 MB/s eta 0:00:02\n",
      "     -------------------                      7.6/15.5 MB 8.6 MB/s eta 0:00:01\n",
      "     -------------------                      7.7/15.5 MB 8.4 MB/s eta 0:00:01\n",
      "     ---------------------                    8.2/15.5 MB 8.2 MB/s eta 0:00:01\n",
      "     ----------------------                   8.7/15.5 MB 8.3 MB/s eta 0:00:01\n",
      "     -----------------------                  9.1/15.5 MB 8.4 MB/s eta 0:00:01\n",
      "     ------------------------                 9.6/15.5 MB 8.4 MB/s eta 0:00:01\n",
      "     --------------------------               10.1/15.5 MB 8.5 MB/s eta 0:00:01\n",
      "     ---------------------------              10.5/15.5 MB 8.3 MB/s eta 0:00:01\n",
      "     ----------------------------             11.1/15.5 MB 8.5 MB/s eta 0:00:01\n",
      "     -----------------------------            11.4/15.5 MB 8.7 MB/s eta 0:00:01\n",
      "     ------------------------------           11.8/15.5 MB 8.7 MB/s eta 0:00:01\n",
      "     -------------------------------          12.3/15.5 MB 8.7 MB/s eta 0:00:01\n",
      "     --------------------------------         12.7/15.5 MB 8.6 MB/s eta 0:00:01\n",
      "     --------------------------------         12.7/15.5 MB 8.6 MB/s eta 0:00:01\n",
      "     --------------------------------         12.7/15.5 MB 8.6 MB/s eta 0:00:01\n",
      "     ---------------------------------        13.1/15.5 MB 7.9 MB/s eta 0:00:01\n",
      "     ----------------------------------       13.5/15.5 MB 7.8 MB/s eta 0:00:01\n",
      "     -----------------------------------      13.9/15.5 MB 7.7 MB/s eta 0:00:01\n",
      "     ------------------------------------     14.2/15.5 MB 7.5 MB/s eta 0:00:01\n",
      "     -------------------------------------    14.5/15.5 MB 7.5 MB/s eta 0:00:01\n",
      "     --------------------------------------   14.9/15.5 MB 7.5 MB/s eta 0:00:01\n",
      "     --------------------------------------   15.1/15.5 MB 7.4 MB/s eta 0:00:01\n",
      "     --------------------------------------   15.1/15.5 MB 7.4 MB/s eta 0:00:01\n",
      "     --------------------------------------   15.1/15.5 MB 7.4 MB/s eta 0:00:01\n",
      "     --------------------------------------   15.1/15.5 MB 6.8 MB/s eta 0:00:01\n",
      "     ---------------------------------------  15.3/15.5 MB 6.6 MB/s eta 0:00:01\n",
      "     ---------------------------------------  15.5/15.5 MB 6.4 MB/s eta 0:00:01\n",
      "     ---------------------------------------  15.5/15.5 MB 6.2 MB/s eta 0:00:01\n",
      "     ---------------------------------------  15.5/15.5 MB 6.2 MB/s eta 0:00:01\n",
      "     ---------------------------------------- 15.5/15.5 MB 5.6 MB/s eta 0:00:00\n",
      "Requirement already satisfied: six>=1.5 in c:\\users\\hp\\appdata\\local\\packages\\pythonsoftwarefoundation.python.3.11_qbz5n2kfra8p0\\localcache\\local-packages\\python311\\site-packages (from python-dateutil>=2.8.2->pandas) (1.16.0)\n",
      "Installing collected packages: pytz, tzdata, numpy, pandas\n",
      "Successfully installed numpy-1.25.2 pandas-2.0.3 pytz-2023.3 tzdata-2023.3\n",
      "Note: you may need to restart the kernel to use updated packages.\n"
     ]
    },
    {
     "name": "stderr",
     "output_type": "stream",
     "text": [
      "\n",
      "[notice] A new release of pip is available: 23.1.2 -> 23.2.1\n",
      "[notice] To update, run: C:\\Users\\HP\\AppData\\Local\\Microsoft\\WindowsApps\\PythonSoftwareFoundation.Python.3.11_qbz5n2kfra8p0\\python.exe -m pip install --upgrade pip\n"
     ]
    }
   ],
   "source": [
    "pip install pandas"
   ]
  },
  {
   "cell_type": "code",
   "execution_count": 6,
   "metadata": {},
   "outputs": [],
   "source": [
    "import pandas as pd\n",
    "import numpy as np"
   ]
  },
  {
   "cell_type": "markdown",
   "metadata": {},
   "source": [
    "## Module 1"
   ]
  },
  {
   "cell_type": "markdown",
   "metadata": {},
   "source": [
    "### Loading the data"
   ]
  },
  {
   "cell_type": "code",
   "execution_count": 7,
   "metadata": {},
   "outputs": [],
   "source": [
    "ds = pd.read_csv(\"Hospital_patients_datasets.csv\")"
   ]
  },
  {
   "cell_type": "code",
   "execution_count": 8,
   "metadata": {},
   "outputs": [
    {
     "data": {
      "text/html": [
       "<div>\n",
       "<style scoped>\n",
       "    .dataframe tbody tr th:only-of-type {\n",
       "        vertical-align: middle;\n",
       "    }\n",
       "\n",
       "    .dataframe tbody tr th {\n",
       "        vertical-align: top;\n",
       "    }\n",
       "\n",
       "    .dataframe thead th {\n",
       "        text-align: right;\n",
       "    }\n",
       "</style>\n",
       "<table border=\"1\" class=\"dataframe\">\n",
       "  <thead>\n",
       "    <tr style=\"text-align: right;\">\n",
       "      <th></th>\n",
       "      <th>PatientId</th>\n",
       "      <th>AppointmentID</th>\n",
       "      <th>Gender</th>\n",
       "      <th>ScheduledDay</th>\n",
       "      <th>AppointmentDay</th>\n",
       "      <th>Age</th>\n",
       "      <th>Neighbourhood</th>\n",
       "      <th>Scholarship</th>\n",
       "      <th>Hipertension</th>\n",
       "      <th>Diabetes</th>\n",
       "      <th>Alcoholism</th>\n",
       "      <th>Handcap</th>\n",
       "      <th>SMS_received</th>\n",
       "      <th>No-show</th>\n",
       "    </tr>\n",
       "  </thead>\n",
       "  <tbody>\n",
       "    <tr>\n",
       "      <th>0</th>\n",
       "      <td>2.987250e+13</td>\n",
       "      <td>5642903</td>\n",
       "      <td>F</td>\n",
       "      <td>2016-04-29T18:38:08Z</td>\n",
       "      <td>2016-04-29T00:00:00Z</td>\n",
       "      <td>62</td>\n",
       "      <td>JARDIM DA PENHA</td>\n",
       "      <td>0</td>\n",
       "      <td>1</td>\n",
       "      <td>0</td>\n",
       "      <td>0</td>\n",
       "      <td>0</td>\n",
       "      <td>0</td>\n",
       "      <td>No</td>\n",
       "    </tr>\n",
       "    <tr>\n",
       "      <th>1</th>\n",
       "      <td>5.589980e+14</td>\n",
       "      <td>5642503</td>\n",
       "      <td>M</td>\n",
       "      <td>2016-04-29T16:08:27Z</td>\n",
       "      <td>2016-04-29T00:00:00Z</td>\n",
       "      <td>56</td>\n",
       "      <td>JARDIM DA PENHA</td>\n",
       "      <td>0</td>\n",
       "      <td>0</td>\n",
       "      <td>0</td>\n",
       "      <td>0</td>\n",
       "      <td>0</td>\n",
       "      <td>0</td>\n",
       "      <td>No</td>\n",
       "    </tr>\n",
       "    <tr>\n",
       "      <th>2</th>\n",
       "      <td>4.262960e+12</td>\n",
       "      <td>5642549</td>\n",
       "      <td>F</td>\n",
       "      <td>2016-04-29T16:19:04Z</td>\n",
       "      <td>2016-04-29T00:00:00Z</td>\n",
       "      <td>62</td>\n",
       "      <td>MATA DA PRAIA</td>\n",
       "      <td>0</td>\n",
       "      <td>0</td>\n",
       "      <td>0</td>\n",
       "      <td>0</td>\n",
       "      <td>0</td>\n",
       "      <td>0</td>\n",
       "      <td>No</td>\n",
       "    </tr>\n",
       "    <tr>\n",
       "      <th>3</th>\n",
       "      <td>8.679510e+11</td>\n",
       "      <td>5642828</td>\n",
       "      <td>F</td>\n",
       "      <td>2016-04-29T17:29:31Z</td>\n",
       "      <td>2016-04-29T00:00:00Z</td>\n",
       "      <td>8</td>\n",
       "      <td>PONTAL DE CAMBURI</td>\n",
       "      <td>0</td>\n",
       "      <td>0</td>\n",
       "      <td>0</td>\n",
       "      <td>0</td>\n",
       "      <td>0</td>\n",
       "      <td>0</td>\n",
       "      <td>No</td>\n",
       "    </tr>\n",
       "    <tr>\n",
       "      <th>4</th>\n",
       "      <td>8.841190e+12</td>\n",
       "      <td>5642494</td>\n",
       "      <td>F</td>\n",
       "      <td>2016-04-29T16:07:23Z</td>\n",
       "      <td>2016-04-29T00:00:00Z</td>\n",
       "      <td>56</td>\n",
       "      <td>JARDIM DA PENHA</td>\n",
       "      <td>0</td>\n",
       "      <td>1</td>\n",
       "      <td>1</td>\n",
       "      <td>0</td>\n",
       "      <td>0</td>\n",
       "      <td>0</td>\n",
       "      <td>No</td>\n",
       "    </tr>\n",
       "    <tr>\n",
       "      <th>...</th>\n",
       "      <td>...</td>\n",
       "      <td>...</td>\n",
       "      <td>...</td>\n",
       "      <td>...</td>\n",
       "      <td>...</td>\n",
       "      <td>...</td>\n",
       "      <td>...</td>\n",
       "      <td>...</td>\n",
       "      <td>...</td>\n",
       "      <td>...</td>\n",
       "      <td>...</td>\n",
       "      <td>...</td>\n",
       "      <td>...</td>\n",
       "      <td>...</td>\n",
       "    </tr>\n",
       "    <tr>\n",
       "      <th>110522</th>\n",
       "      <td>2.572130e+12</td>\n",
       "      <td>5651768</td>\n",
       "      <td>F</td>\n",
       "      <td>2016-05-03T09:15:35Z</td>\n",
       "      <td>2016-06-07T00:00:00Z</td>\n",
       "      <td>56</td>\n",
       "      <td>MARIA ORTIZ</td>\n",
       "      <td>0</td>\n",
       "      <td>0</td>\n",
       "      <td>0</td>\n",
       "      <td>0</td>\n",
       "      <td>0</td>\n",
       "      <td>1</td>\n",
       "      <td>No</td>\n",
       "    </tr>\n",
       "    <tr>\n",
       "      <th>110523</th>\n",
       "      <td>3.596270e+12</td>\n",
       "      <td>5650093</td>\n",
       "      <td>F</td>\n",
       "      <td>2016-05-03T07:27:33Z</td>\n",
       "      <td>2016-06-07T00:00:00Z</td>\n",
       "      <td>51</td>\n",
       "      <td>MARIA ORTIZ</td>\n",
       "      <td>0</td>\n",
       "      <td>0</td>\n",
       "      <td>0</td>\n",
       "      <td>0</td>\n",
       "      <td>0</td>\n",
       "      <td>1</td>\n",
       "      <td>No</td>\n",
       "    </tr>\n",
       "    <tr>\n",
       "      <th>110524</th>\n",
       "      <td>1.557660e+13</td>\n",
       "      <td>5630692</td>\n",
       "      <td>F</td>\n",
       "      <td>2016-04-27T16:03:52Z</td>\n",
       "      <td>2016-06-07T00:00:00Z</td>\n",
       "      <td>21</td>\n",
       "      <td>MARIA ORTIZ</td>\n",
       "      <td>0</td>\n",
       "      <td>0</td>\n",
       "      <td>0</td>\n",
       "      <td>0</td>\n",
       "      <td>0</td>\n",
       "      <td>1</td>\n",
       "      <td>No</td>\n",
       "    </tr>\n",
       "    <tr>\n",
       "      <th>110525</th>\n",
       "      <td>9.213490e+13</td>\n",
       "      <td>5630323</td>\n",
       "      <td>F</td>\n",
       "      <td>2016-04-27T15:09:23Z</td>\n",
       "      <td>2016-06-07T00:00:00Z</td>\n",
       "      <td>38</td>\n",
       "      <td>MARIA ORTIZ</td>\n",
       "      <td>0</td>\n",
       "      <td>0</td>\n",
       "      <td>0</td>\n",
       "      <td>0</td>\n",
       "      <td>0</td>\n",
       "      <td>1</td>\n",
       "      <td>No</td>\n",
       "    </tr>\n",
       "    <tr>\n",
       "      <th>110526</th>\n",
       "      <td>3.775120e+14</td>\n",
       "      <td>5629448</td>\n",
       "      <td>F</td>\n",
       "      <td>2016-04-27T13:30:56Z</td>\n",
       "      <td>2016-06-07T00:00:00Z</td>\n",
       "      <td>54</td>\n",
       "      <td>MARIA ORTIZ</td>\n",
       "      <td>0</td>\n",
       "      <td>0</td>\n",
       "      <td>0</td>\n",
       "      <td>0</td>\n",
       "      <td>0</td>\n",
       "      <td>1</td>\n",
       "      <td>No</td>\n",
       "    </tr>\n",
       "  </tbody>\n",
       "</table>\n",
       "<p>110527 rows × 14 columns</p>\n",
       "</div>"
      ],
      "text/plain": [
       "           PatientId  AppointmentID Gender          ScheduledDay  \\\n",
       "0       2.987250e+13        5642903      F  2016-04-29T18:38:08Z   \n",
       "1       5.589980e+14        5642503      M  2016-04-29T16:08:27Z   \n",
       "2       4.262960e+12        5642549      F  2016-04-29T16:19:04Z   \n",
       "3       8.679510e+11        5642828      F  2016-04-29T17:29:31Z   \n",
       "4       8.841190e+12        5642494      F  2016-04-29T16:07:23Z   \n",
       "...              ...            ...    ...                   ...   \n",
       "110522  2.572130e+12        5651768      F  2016-05-03T09:15:35Z   \n",
       "110523  3.596270e+12        5650093      F  2016-05-03T07:27:33Z   \n",
       "110524  1.557660e+13        5630692      F  2016-04-27T16:03:52Z   \n",
       "110525  9.213490e+13        5630323      F  2016-04-27T15:09:23Z   \n",
       "110526  3.775120e+14        5629448      F  2016-04-27T13:30:56Z   \n",
       "\n",
       "              AppointmentDay  Age      Neighbourhood  Scholarship  \\\n",
       "0       2016-04-29T00:00:00Z   62    JARDIM DA PENHA            0   \n",
       "1       2016-04-29T00:00:00Z   56    JARDIM DA PENHA            0   \n",
       "2       2016-04-29T00:00:00Z   62      MATA DA PRAIA            0   \n",
       "3       2016-04-29T00:00:00Z    8  PONTAL DE CAMBURI            0   \n",
       "4       2016-04-29T00:00:00Z   56    JARDIM DA PENHA            0   \n",
       "...                      ...  ...                ...          ...   \n",
       "110522  2016-06-07T00:00:00Z   56        MARIA ORTIZ            0   \n",
       "110523  2016-06-07T00:00:00Z   51        MARIA ORTIZ            0   \n",
       "110524  2016-06-07T00:00:00Z   21        MARIA ORTIZ            0   \n",
       "110525  2016-06-07T00:00:00Z   38        MARIA ORTIZ            0   \n",
       "110526  2016-06-07T00:00:00Z   54        MARIA ORTIZ            0   \n",
       "\n",
       "        Hipertension  Diabetes  Alcoholism  Handcap  SMS_received No-show  \n",
       "0                  1         0           0        0             0      No  \n",
       "1                  0         0           0        0             0      No  \n",
       "2                  0         0           0        0             0      No  \n",
       "3                  0         0           0        0             0      No  \n",
       "4                  1         1           0        0             0      No  \n",
       "...              ...       ...         ...      ...           ...     ...  \n",
       "110522             0         0           0        0             1      No  \n",
       "110523             0         0           0        0             1      No  \n",
       "110524             0         0           0        0             1      No  \n",
       "110525             0         0           0        0             1      No  \n",
       "110526             0         0           0        0             1      No  \n",
       "\n",
       "[110527 rows x 14 columns]"
      ]
     },
     "execution_count": 8,
     "metadata": {},
     "output_type": "execute_result"
    }
   ],
   "source": [
    "ds"
   ]
  },
  {
   "cell_type": "markdown",
   "metadata": {},
   "source": [
    "### Finding Duplicate Values"
   ]
  },
  {
   "cell_type": "code",
   "execution_count": 11,
   "metadata": {},
   "outputs": [
    {
     "name": "stdout",
     "output_type": "stream",
     "text": [
      "0\n"
     ]
    }
   ],
   "source": [
    "duplicate_count = ds.duplicated().sum()\n",
    "print(duplicate_count)"
   ]
  },
  {
   "cell_type": "markdown",
   "metadata": {},
   "source": [
    "### Finding the Null Values"
   ]
  },
  {
   "cell_type": "code",
   "execution_count": 13,
   "metadata": {},
   "outputs": [
    {
     "name": "stdout",
     "output_type": "stream",
     "text": [
      "PatientId         0\n",
      "AppointmentID     0\n",
      "Gender            0\n",
      "ScheduledDay      0\n",
      "AppointmentDay    0\n",
      "Age               0\n",
      "Neighbourhood     0\n",
      "Scholarship       0\n",
      "Hipertension      0\n",
      "Diabetes          0\n",
      "Alcoholism        0\n",
      "Handcap           0\n",
      "SMS_received      0\n",
      "No-show           0\n",
      "dtype: int64\n"
     ]
    }
   ],
   "source": [
    "null_count = ds.isnull().sum()\n",
    "print(null_count)"
   ]
  },
  {
   "cell_type": "markdown",
   "metadata": {},
   "source": [
    "### Converting the datatype\n",
    "#### convert the 'ScheduledDay' and 'AppointmentDay' columns to pandas datetime objects with date-only information, and returns the modified dataset."
   ]
  },
  {
   "cell_type": "code",
   "execution_count": 18,
   "metadata": {},
   "outputs": [],
   "source": [
    "ds['ScheduledDay'] = pd.to_datetime(ds['ScheduledDay']).dt.date.astype('datetime64[ns]')\n",
    "ds['AppointmentDay'] = pd.to_datetime(ds['AppointmentDay']).dt.date.astype('datetime64[ns]')"
   ]
  },
  {
   "cell_type": "code",
   "execution_count": 22,
   "metadata": {},
   "outputs": [
    {
     "data": {
      "text/plain": [
       "<bound method NDFrame.head of 0        2016-04-29\n",
       "1        2016-04-29\n",
       "2        2016-04-29\n",
       "3        2016-04-29\n",
       "4        2016-04-29\n",
       "            ...    \n",
       "110522   2016-05-03\n",
       "110523   2016-05-03\n",
       "110524   2016-04-27\n",
       "110525   2016-04-27\n",
       "110526   2016-04-27\n",
       "Name: ScheduledDay, Length: 110527, dtype: datetime64[ns]>"
      ]
     },
     "execution_count": 22,
     "metadata": {},
     "output_type": "execute_result"
    }
   ],
   "source": [
    "ds['ScheduledDay'].head"
   ]
  },
  {
   "cell_type": "markdown",
   "metadata": {},
   "source": [
    "### Renaming the columns\n",
    "#### renames specific columns ('Hipertension' to 'Hypertension', 'Handcap' to 'Handicap', 'SMS_received' to 'SMSReceived', 'No-show' to 'NoShow'), and returns the modified dataset."
   ]
  },
  {
   "cell_type": "code",
   "execution_count": 23,
   "metadata": {},
   "outputs": [
    {
     "data": {
      "text/plain": [
       "<bound method NDFrame.head of            PatientId  AppointmentID Gender ScheduledDay AppointmentDay  Age  \\\n",
       "0       2.987250e+13        5642903      F   2016-04-29     2016-04-29   62   \n",
       "1       5.589980e+14        5642503      M   2016-04-29     2016-04-29   56   \n",
       "2       4.262960e+12        5642549      F   2016-04-29     2016-04-29   62   \n",
       "3       8.679510e+11        5642828      F   2016-04-29     2016-04-29    8   \n",
       "4       8.841190e+12        5642494      F   2016-04-29     2016-04-29   56   \n",
       "...              ...            ...    ...          ...            ...  ...   \n",
       "110522  2.572130e+12        5651768      F   2016-05-03     2016-06-07   56   \n",
       "110523  3.596270e+12        5650093      F   2016-05-03     2016-06-07   51   \n",
       "110524  1.557660e+13        5630692      F   2016-04-27     2016-06-07   21   \n",
       "110525  9.213490e+13        5630323      F   2016-04-27     2016-06-07   38   \n",
       "110526  3.775120e+14        5629448      F   2016-04-27     2016-06-07   54   \n",
       "\n",
       "            Neighbourhood  Scholarship  Hypertension  Diabetes  Alcoholism  \\\n",
       "0         JARDIM DA PENHA            0             1         0           0   \n",
       "1         JARDIM DA PENHA            0             0         0           0   \n",
       "2           MATA DA PRAIA            0             0         0           0   \n",
       "3       PONTAL DE CAMBURI            0             0         0           0   \n",
       "4         JARDIM DA PENHA            0             1         1           0   \n",
       "...                   ...          ...           ...       ...         ...   \n",
       "110522        MARIA ORTIZ            0             0         0           0   \n",
       "110523        MARIA ORTIZ            0             0         0           0   \n",
       "110524        MARIA ORTIZ            0             0         0           0   \n",
       "110525        MARIA ORTIZ            0             0         0           0   \n",
       "110526        MARIA ORTIZ            0             0         0           0   \n",
       "\n",
       "        Handicap  SMSReceived NoShow  \n",
       "0              0            0     No  \n",
       "1              0            0     No  \n",
       "2              0            0     No  \n",
       "3              0            0     No  \n",
       "4              0            0     No  \n",
       "...          ...          ...    ...  \n",
       "110522         0            1     No  \n",
       "110523         0            1     No  \n",
       "110524         0            1     No  \n",
       "110525         0            1     No  \n",
       "110526         0            1     No  \n",
       "\n",
       "[110527 rows x 14 columns]>"
      ]
     },
     "execution_count": 23,
     "metadata": {},
     "output_type": "execute_result"
    }
   ],
   "source": [
    "ds = ds.rename(columns = {\n",
    "    'Hipertension': 'Hypertension',\n",
    "    'Handcap': 'Handicap',\n",
    "    'SMS_received': 'SMSReceived',\n",
    "    'No-show': 'NoShow'\n",
    "})\n",
    "ds.head"
   ]
  },
  {
   "cell_type": "markdown",
   "metadata": {},
   "source": [
    "## Module 2"
   ]
  },
  {
   "cell_type": "markdown",
   "metadata": {},
   "source": [
    "### 1. Drop the unwanted columns\n",
    "#### rename the columns of a DataFrame ds, drop the columns 'PatientId', 'AppointmentID', and 'Neighbourhood' from the DataFrame, and return the modified DataFrame with these columns removed."
   ]
  },
  {
   "cell_type": "code",
   "execution_count": 24,
   "metadata": {},
   "outputs": [],
   "source": [
    "columns_to_drop = ['PatientId', 'AppointmentID', 'Neighbourhood']\n",
    "ds = ds.drop(columns=columns_to_drop)"
   ]
  },
  {
   "cell_type": "code",
   "execution_count": 25,
   "metadata": {},
   "outputs": [
    {
     "data": {
      "text/plain": [
       "<bound method NDFrame.head of        Gender ScheduledDay AppointmentDay  Age  Scholarship  Hypertension  \\\n",
       "0           F   2016-04-29     2016-04-29   62            0             1   \n",
       "1           M   2016-04-29     2016-04-29   56            0             0   \n",
       "2           F   2016-04-29     2016-04-29   62            0             0   \n",
       "3           F   2016-04-29     2016-04-29    8            0             0   \n",
       "4           F   2016-04-29     2016-04-29   56            0             1   \n",
       "...       ...          ...            ...  ...          ...           ...   \n",
       "110522      F   2016-05-03     2016-06-07   56            0             0   \n",
       "110523      F   2016-05-03     2016-06-07   51            0             0   \n",
       "110524      F   2016-04-27     2016-06-07   21            0             0   \n",
       "110525      F   2016-04-27     2016-06-07   38            0             0   \n",
       "110526      F   2016-04-27     2016-06-07   54            0             0   \n",
       "\n",
       "        Diabetes  Alcoholism  Handicap  SMSReceived NoShow  \n",
       "0              0           0         0            0     No  \n",
       "1              0           0         0            0     No  \n",
       "2              0           0         0            0     No  \n",
       "3              0           0         0            0     No  \n",
       "4              1           0         0            0     No  \n",
       "...          ...         ...       ...          ...    ...  \n",
       "110522         0           0         0            1     No  \n",
       "110523         0           0         0            1     No  \n",
       "110524         0           0         0            1     No  \n",
       "110525         0           0         0            1     No  \n",
       "110526         0           0         0            1     No  \n",
       "\n",
       "[110527 rows x 11 columns]>"
      ]
     },
     "execution_count": 25,
     "metadata": {},
     "output_type": "execute_result"
    }
   ],
   "source": [
    "ds.head"
   ]
  },
  {
   "cell_type": "markdown",
   "metadata": {},
   "source": [
    "### 2. Creating New Column\n",
    "#### First drop the rows where the value in the 'Age' column is equal to 0. And generate age group labels(given) and categorize the 'Age' values into bins with 20-year intervals.\n",
    "#### Use the pd.cut() function from the pandas library to create an 'Age_group' column in the DataFrame."
   ]
  },
  {
   "cell_type": "code",
   "execution_count": 31,
   "metadata": {},
   "outputs": [
    {
     "name": "stdout",
     "output_type": "stream",
     "text": [
      "       Gender ScheduledDay AppointmentDay  Age  Scholarship  Hypertension  \\\n",
      "0           F   2016-04-29     2016-04-29   62            0             1   \n",
      "1           M   2016-04-29     2016-04-29   56            0             0   \n",
      "2           F   2016-04-29     2016-04-29   62            0             0   \n",
      "3           F   2016-04-29     2016-04-29    8            0             0   \n",
      "4           F   2016-04-29     2016-04-29   56            0             1   \n",
      "...       ...          ...            ...  ...          ...           ...   \n",
      "110522      F   2016-05-03     2016-06-07   56            0             0   \n",
      "110523      F   2016-05-03     2016-06-07   51            0             0   \n",
      "110524      F   2016-04-27     2016-06-07   21            0             0   \n",
      "110525      F   2016-04-27     2016-06-07   38            0             0   \n",
      "110526      F   2016-04-27     2016-06-07   54            0             0   \n",
      "\n",
      "        Diabetes  Alcoholism  Handicap  SMSReceived NoShow Age_group  \n",
      "0              0           0         0            0     No     61-80  \n",
      "1              0           0         0            0     No     41-60  \n",
      "2              0           0         0            0     No     61-80  \n",
      "3              0           0         0            0     No      0-20  \n",
      "4              1           0         0            0     No     41-60  \n",
      "...          ...         ...       ...          ...    ...       ...  \n",
      "110522         0           0         0            1     No     41-60  \n",
      "110523         0           0         0            1     No     41-60  \n",
      "110524         0           0         0            1     No     21-40  \n",
      "110525         0           0         0            1     No     21-40  \n",
      "110526         0           0         0            1     No     41-60  \n",
      "\n",
      "[106988 rows x 12 columns]\n"
     ]
    }
   ],
   "source": [
    "def preprocess_data(ds):\n",
    "\n",
    "    # Drop rows with 'Age' equal to 0\n",
    "    ds = ds[ds['Age'] != 0].copy()  # Make a copy to avoid the warning\n",
    "\n",
    "    # Define age group labels and intervals\n",
    "    age_bins = [0, 20, 40, 60, 80, 100]\n",
    "    age_labels = ['0-20', '21-40', '41-60', '61-80', '81-100']\n",
    "\n",
    "    # Create 'Age_group' column using pd.cut() with .loc indexer\n",
    "    ds.loc[:, 'Age_group'] = pd.cut(ds['Age'], bins=age_bins, labels=age_labels, right=False)\n",
    "\n",
    "    return ds\n",
    "\n",
    "modified_ds = preprocess_data(ds)\n",
    "\n",
    "# Print the modified DataFrame\n",
    "print(modified_ds)\n"
   ]
  },
  {
   "cell_type": "markdown",
   "metadata": {},
   "source": [
    "### 3. Droping the Age column"
   ]
  },
  {
   "cell_type": "code",
   "execution_count": 33,
   "metadata": {},
   "outputs": [
    {
     "name": "stdout",
     "output_type": "stream",
     "text": [
      "       Gender ScheduledDay AppointmentDay  Scholarship  Hypertension  \\\n",
      "0           F   2016-04-29     2016-04-29            0             1   \n",
      "1           M   2016-04-29     2016-04-29            0             0   \n",
      "2           F   2016-04-29     2016-04-29            0             0   \n",
      "3           F   2016-04-29     2016-04-29            0             0   \n",
      "4           F   2016-04-29     2016-04-29            0             1   \n",
      "...       ...          ...            ...          ...           ...   \n",
      "110522      F   2016-05-03     2016-06-07            0             0   \n",
      "110523      F   2016-05-03     2016-06-07            0             0   \n",
      "110524      F   2016-04-27     2016-06-07            0             0   \n",
      "110525      F   2016-04-27     2016-06-07            0             0   \n",
      "110526      F   2016-04-27     2016-06-07            0             0   \n",
      "\n",
      "        Diabetes  Alcoholism  Handicap  SMSReceived NoShow Age_group  \n",
      "0              0           0         0            0     No     61-80  \n",
      "1              0           0         0            0     No     41-60  \n",
      "2              0           0         0            0     No     61-80  \n",
      "3              0           0         0            0     No      0-20  \n",
      "4              1           0         0            0     No     41-60  \n",
      "...          ...         ...       ...          ...    ...       ...  \n",
      "110522         0           0         0            1     No     41-60  \n",
      "110523         0           0         0            1     No     41-60  \n",
      "110524         0           0         0            1     No     21-40  \n",
      "110525         0           0         0            1     No     21-40  \n",
      "110526         0           0         0            1     No     41-60  \n",
      "\n",
      "[106988 rows x 11 columns]\n"
     ]
    }
   ],
   "source": [
    "modified_ds = modified_ds.drop(columns='Age')\n",
    "print(modified_ds)"
   ]
  },
  {
   "cell_type": "markdown",
   "metadata": {},
   "source": [
    "### 4. Convert the Noshow\n",
    "#### converting the Noshow column into a binary format, representing appointment attendance, and returning the mofified dataframe "
   ]
  },
  {
   "cell_type": "code",
   "execution_count": 41,
   "metadata": {},
   "outputs": [
    {
     "name": "stdout",
     "output_type": "stream",
     "text": [
      "<bound method Series.unique of 0         No\n",
      "1         No\n",
      "2         No\n",
      "3         No\n",
      "4         No\n",
      "          ..\n",
      "110522    No\n",
      "110523    No\n",
      "110524    No\n",
      "110525    No\n",
      "110526    No\n",
      "Name: NoShow, Length: 106988, dtype: object>\n"
     ]
    }
   ],
   "source": [
    "unique_values = modified_ds['NoShow'].unique\n",
    "print(unique_values)"
   ]
  },
  {
   "cell_type": "code",
   "execution_count": 42,
   "metadata": {},
   "outputs": [
    {
     "name": "stdout",
     "output_type": "stream",
     "text": [
      "       Gender ScheduledDay AppointmentDay  Scholarship  Hypertension  \\\n",
      "0           F   2016-04-29     2016-04-29            0             1   \n",
      "1           M   2016-04-29     2016-04-29            0             0   \n",
      "2           F   2016-04-29     2016-04-29            0             0   \n",
      "3           F   2016-04-29     2016-04-29            0             0   \n",
      "4           F   2016-04-29     2016-04-29            0             1   \n",
      "...       ...          ...            ...          ...           ...   \n",
      "110522      F   2016-05-03     2016-06-07            0             0   \n",
      "110523      F   2016-05-03     2016-06-07            0             0   \n",
      "110524      F   2016-04-27     2016-06-07            0             0   \n",
      "110525      F   2016-04-27     2016-06-07            0             0   \n",
      "110526      F   2016-04-27     2016-06-07            0             0   \n",
      "\n",
      "        Diabetes  Alcoholism  Handicap  SMSReceived  NoShow Age_group  \n",
      "0              0           0         0            0       0     61-80  \n",
      "1              0           0         0            0       0     41-60  \n",
      "2              0           0         0            0       0     61-80  \n",
      "3              0           0         0            0       0      0-20  \n",
      "4              1           0         0            0       0     41-60  \n",
      "...          ...         ...       ...          ...     ...       ...  \n",
      "110522         0           0         0            1       0     41-60  \n",
      "110523         0           0         0            1       0     41-60  \n",
      "110524         0           0         0            1       0     21-40  \n",
      "110525         0           0         0            1       0     21-40  \n",
      "110526         0           0         0            1       0     41-60  \n",
      "\n",
      "[106988 rows x 11 columns]\n"
     ]
    }
   ],
   "source": [
    "modified_ds['NoShow'] = modified_ds['NoShow'].map({'No': 0, 'Yes': 1})\n",
    "print(modified_ds)"
   ]
  },
  {
   "cell_type": "markdown",
   "metadata": {},
   "source": [
    "### 5. Exporting the cleaned dataset"
   ]
  },
  {
   "cell_type": "code",
   "execution_count": 43,
   "metadata": {},
   "outputs": [],
   "source": [
    "modified_ds.to_csv('patients.csv', index=False)"
   ]
  }
 ],
 "metadata": {
  "kernelspec": {
   "display_name": "Python 3",
   "language": "python",
   "name": "python3"
  },
  "language_info": {
   "codemirror_mode": {
    "name": "ipython",
    "version": 3
   },
   "file_extension": ".py",
   "mimetype": "text/x-python",
   "name": "python",
   "nbconvert_exporter": "python",
   "pygments_lexer": "ipython3",
   "version": "3.11.4"
  },
  "orig_nbformat": 4
 },
 "nbformat": 4,
 "nbformat_minor": 2
}
